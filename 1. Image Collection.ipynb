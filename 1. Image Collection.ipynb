{
 "cells": [
  {
   "cell_type": "markdown",
   "source": [
    "# 1. Import Dependencies"
   ],
   "metadata": {}
  },
  {
   "cell_type": "code",
   "execution_count": null,
   "source": [
    "!pip install opencv-python"
   ],
   "outputs": [],
   "metadata": {}
  },
  {
   "cell_type": "code",
   "execution_count": null,
   "source": [
    "# Import opencv\r\n",
    "import cv2 \r\n",
    "\r\n",
    "# Import uuid\r\n",
    "import uuid\r\n",
    "\r\n",
    "# Import Operating System\r\n",
    "import os\r\n",
    "\r\n",
    "# Import time\r\n",
    "import time"
   ],
   "outputs": [],
   "metadata": {}
  },
  {
   "cell_type": "markdown",
   "source": [
    "# 2. Define Images to Collect"
   ],
   "metadata": {}
  },
  {
   "cell_type": "code",
   "execution_count": null,
   "source": [
    "labels = ['thumbsup', 'thumbsdown', 'thankyou', 'livelong']\r\n",
    "number_imgs = 5"
   ],
   "outputs": [],
   "metadata": {}
  },
  {
   "cell_type": "markdown",
   "source": [
    "# 3. Setup Folders "
   ],
   "metadata": {}
  },
  {
   "cell_type": "code",
   "execution_count": null,
   "source": [
    "IMAGES_PATH = os.path.join('Tensorflow', 'workspace', 'images', 'collectedimages')"
   ],
   "outputs": [],
   "metadata": {}
  },
  {
   "cell_type": "code",
   "execution_count": null,
   "source": [
    "if not os.path.exists(IMAGES_PATH):\r\n",
    "    if os.name == 'posix':\r\n",
    "        !mkdir -p {IMAGES_PATH}\r\n",
    "    if os.name == 'nt':\r\n",
    "         !mkdir {IMAGES_PATH}\r\n",
    "for label in labels:\r\n",
    "    path = os.path.join(IMAGES_PATH, label)\r\n",
    "    if not os.path.exists(path):\r\n",
    "        !mkdir {path}"
   ],
   "outputs": [],
   "metadata": {}
  },
  {
   "cell_type": "markdown",
   "source": [
    "# 4. Capture Images"
   ],
   "metadata": {}
  },
  {
   "cell_type": "code",
   "execution_count": null,
   "source": [
    "for label in labels:\r\n",
    "    cap = cv2.VideoCapture(0)\r\n",
    "    print('Collecting images for {}'.format(label))\r\n",
    "    time.sleep(5)\r\n",
    "    for imgnum in range(number_imgs):\r\n",
    "        print('Collecting image {}'.format(imgnum))\r\n",
    "        ret, frame = cap.read()\r\n",
    "        imgname = os.path.join(IMAGES_PATH,label,label+'.'+'{}.jpg'.format(str(uuid.uuid1())))\r\n",
    "        cv2.imwrite(imgname, frame)\r\n",
    "        cv2.imshow('frame', frame)\r\n",
    "        time.sleep(2)\r\n",
    "\r\n",
    "        if cv2.waitKey(1) & 0xFF == ord('q'):\r\n",
    "            break\r\n",
    "cap.release()\r\n",
    "cv2.destroyAllWindows()"
   ],
   "outputs": [],
   "metadata": {}
  },
  {
   "cell_type": "markdown",
   "source": [
    "# 5. Image Labelling"
   ],
   "metadata": {}
  },
  {
   "cell_type": "code",
   "execution_count": null,
   "source": [
    "!pip install --upgrade pyqt5 lxml"
   ],
   "outputs": [],
   "metadata": {}
  },
  {
   "cell_type": "code",
   "execution_count": null,
   "source": [
    "LABELIMG_PATH = os.path.join('Tensorflow', 'labelimg')"
   ],
   "outputs": [],
   "metadata": {}
  },
  {
   "cell_type": "code",
   "execution_count": null,
   "source": [
    "if not os.path.exists(LABELIMG_PATH):\r\n",
    "    !mkdir {LABELIMG_PATH}\r\n",
    "    !git clone https://github.com/tzutalin/labelImg {LABELIMG_PATH}"
   ],
   "outputs": [],
   "metadata": {}
  },
  {
   "cell_type": "code",
   "execution_count": null,
   "source": [
    "if os.name == 'posix':\r\n",
    "    !make qt5py3\r\n",
    "if os.name =='nt':\r\n",
    "    !cd {LABELIMG_PATH} && pyrcc5 -o libs/resources.py resources.qrc"
   ],
   "outputs": [],
   "metadata": {}
  },
  {
   "cell_type": "code",
   "execution_count": null,
   "source": [
    "!cd {LABELIMG_PATH} && python labelImg.py"
   ],
   "outputs": [],
   "metadata": {}
  },
  {
   "cell_type": "markdown",
   "source": [
    "# 6. Move them into a Training and Testing Partition"
   ],
   "metadata": {}
  },
  {
   "cell_type": "markdown",
   "source": [
    "# OPTIONAL - 7. Compress them for Colab Training"
   ],
   "metadata": {}
  },
  {
   "cell_type": "code",
   "execution_count": null,
   "source": [
    "TRAIN_PATH = os.path.join('Tensorflow', 'workspace', 'images', 'train')\n",
    "TEST_PATH = os.path.join('Tensorflow', 'workspace', 'images', 'test')\n",
    "ARCHIVE_PATH = os.path.join('Tensorflow', 'workspace', 'images', 'archive.tar.gz')"
   ],
   "outputs": [],
   "metadata": {}
  },
  {
   "cell_type": "code",
   "execution_count": null,
   "source": [
    "!tar -czf {ARCHIVE_PATH} {TRAIN_PATH} {TEST_PATH}"
   ],
   "outputs": [],
   "metadata": {}
  },
  {
   "cell_type": "code",
   "execution_count": null,
   "source": [],
   "outputs": [],
   "metadata": {}
  }
 ],
 "metadata": {
  "kernelspec": {
   "name": "python3",
   "display_name": "Python 3.9.7 64-bit ('env': venv)"
  },
  "language_info": {
   "codemirror_mode": {
    "name": "ipython",
    "version": 3
   },
   "file_extension": ".py",
   "mimetype": "text/x-python",
   "name": "python",
   "nbconvert_exporter": "python",
   "pygments_lexer": "ipython3",
   "version": "3.9.7"
  },
  "interpreter": {
   "hash": "ab2001649309b84c3fa21746c8804f1732cc1386ea1d8f77ddf797c222261bf0"
  }
 },
 "nbformat": 4,
 "nbformat_minor": 2
}